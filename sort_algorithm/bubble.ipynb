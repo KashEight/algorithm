{
 "cells": [
  {
   "cell_type": "markdown",
   "metadata": {},
   "source": [
    "# 実行前処理"
   ]
  },
  {
   "cell_type": "code",
   "execution_count": 20,
   "metadata": {},
   "outputs": [],
   "source": [
    "with open(\"../shuffle_code.txt\") as f:\n",
    "    basic_arr = []\n",
    "    line = f.readline()\n",
    "    while line:\n",
    "        line = line.strip()\n",
    "        basic_arr.append(int(line))\n",
    "        line = f.readline()"
   ]
  },
  {
   "cell_type": "markdown",
   "metadata": {},
   "source": [
    "# 実装"
   ]
  },
  {
   "cell_type": "code",
   "execution_count": 33,
   "metadata": {},
   "outputs": [],
   "source": [
    "# 初期化処理\n",
    "# n: リストの大きさ (今回は 1万)\n",
    "n = 10000\n",
    "\n",
    "# バブルソート実行関数\n",
    "def bubble_sort(arr):\n",
    "    # i を 0 から n - 1 まで 1 ずつ上げながら回す\n",
    "    for i in range(n):\n",
    "        # j を n - 1 から i + 1 まで 1 ずつ減らしながら回す\n",
    "        # i まで整列済みなので i + 1 まで回せば良い\n",
    "        for j in range(n - 1, i, -1):\n",
    "            # j - 1 番目の要素 が j 番目の要素より大きい場合 swap する\n",
    "            if arr[j - 1] > arr[j]:\n",
    "                arr[j - 1], arr[j] = arr[j], arr[j - 1]\n",
    "\n",
    "def main(arr):\n",
    "    # バブルソートの実行\n",
    "    bubble_sort(arr)"
   ]
  },
  {
   "cell_type": "markdown",
   "metadata": {},
   "source": [
    "# 実行"
   ]
  },
  {
   "cell_type": "code",
   "execution_count": 36,
   "metadata": {},
   "outputs": [
    {
     "name": "stdout",
     "output_type": "stream",
     "text": [
      "4.14 s ± 75.2 ms per loop (mean ± std. dev. of 7 runs, 1 loop each)\n"
     ]
    }
   ],
   "source": [
    "import copy\n",
    "\n",
    "# リストのコピー\n",
    "ex_arr = copy.deepcopy(basic_arr)\n",
    "\n",
    "%timeit main(ex_arr)"
   ]
  },
  {
   "cell_type": "code",
   "execution_count": null,
   "metadata": {},
   "outputs": [],
   "source": []
  }
 ],
 "metadata": {
  "kernelspec": {
   "display_name": "Python 3",
   "language": "python",
   "name": "python3"
  },
  "language_info": {
   "codemirror_mode": {
    "name": "ipython",
    "version": 3
   },
   "file_extension": ".py",
   "mimetype": "text/x-python",
   "name": "python",
   "nbconvert_exporter": "python",
   "pygments_lexer": "ipython3",
   "version": "3.7.3"
  }
 },
 "nbformat": 4,
 "nbformat_minor": 2
}
