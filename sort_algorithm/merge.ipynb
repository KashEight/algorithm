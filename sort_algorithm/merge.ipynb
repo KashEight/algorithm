{
 "cells": [
  {
   "cell_type": "markdown",
   "metadata": {},
   "source": [
    "# 実行前処理"
   ]
  },
  {
   "cell_type": "code",
   "execution_count": 1,
   "metadata": {},
   "outputs": [],
   "source": [
    "with open(\"../shuffle_code.txt\") as f:\n",
    "    basic_arr = []\n",
    "    line = f.readline()\n",
    "    while line:\n",
    "        line = line.strip()\n",
    "        basic_arr.append(int(line))\n",
    "        line = f.readline()"
   ]
  },
  {
   "cell_type": "code",
   "execution_count": 2,
   "metadata": {},
   "outputs": [],
   "source": [
    "import sys\n",
    "\n",
    "# 再帰上限を増やす\n",
    "sys.setrecursionlimit(1000000)"
   ]
  },
  {
   "cell_type": "markdown",
   "metadata": {},
   "source": [
    "# 実装"
   ]
  },
  {
   "cell_type": "code",
   "execution_count": 3,
   "metadata": {},
   "outputs": [],
   "source": [
    "# 初期化処理\n",
    "# n: リストの大きさ (今回は 1万)\n",
    "# INF: 大きい値\n",
    "n = 10000\n",
    "INF = 1 << 60\n",
    "\n",
    "# マージソート実行関数\n",
    "def merge_sort(arr, left, right):\n",
    "    # right と left の差が 1 の場合 return する\n",
    "    if right - left == 1:\n",
    "        return\n",
    "    # mid の計算 (C++ のときと同じ方法で計算)\n",
    "    mid = left + (right - left) // 2\n",
    "    \n",
    "    # mid から左を再帰でソートさせる\n",
    "    merge_sort(arr, left, mid)\n",
    "    \n",
    "    # mid から右を再帰でソートさせる\n",
    "    merge_sort(arr, mid, right)\n",
    "    \n",
    "    # mid からの要素数を一時変数として保存\n",
    "    # n1: 左側, n2: 右側\n",
    "    n1 = mid - left\n",
    "    n2 = right - mid\n",
    "\n",
    "    # 左側, 右側のソート結果を格納するリストを宣言, 初期化\n",
    "    L = [arr[left + i] for i in range(n1)]\n",
    "    R = [arr[mid + i] for i in range(n2)]\n",
    "    \n",
    "    # n1, n2 番目を INF にする\n",
    "    L.append(INF)\n",
    "    R.append(INF)\n",
    "    \n",
    "    # 左側のリストの index と右側のリストの index となる変数の宣言, 初期化\n",
    "    L_index = 0\n",
    "    R_index = 0\n",
    "    \n",
    "    # マージ処理\n",
    "    for i in range(left, right):\n",
    "        # 左側と右側で大小比較\n",
    "        if L[L_index] <= R[R_index]:\n",
    "            # 左側の方が大きい場合\n",
    "            arr[i] = L[L_index]\n",
    "            # L_index をインクリメント (L_index = n1 の場合 INF になるので問題なし)\n",
    "            L_index += 1\n",
    "        else:\n",
    "            # 右側の方が大きい場合\n",
    "            arr[i] = R[R_index]\n",
    "            # R_index をインクリメント (R_index = n2 の場合 INF になるので問題なし)\n",
    "            R_index += 1\n",
    "\n",
    "            \n",
    "def main(arr):\n",
    "    # マージソートの実行\n",
    "    merge_sort(arr, 0, n)"
   ]
  },
  {
   "cell_type": "markdown",
   "metadata": {},
   "source": [
    "# 実行"
   ]
  },
  {
   "cell_type": "code",
   "execution_count": 18,
   "metadata": {},
   "outputs": [
    {
     "name": "stdout",
     "output_type": "stream",
     "text": [
      "CPU times: user 62.4 ms, sys: 0 ns, total: 62.4 ms\n",
      "Wall time: 61.2 ms\n"
     ]
    }
   ],
   "source": [
    "import copy\n",
    "\n",
    "# リストのコピー\n",
    "ex_arr = copy.deepcopy(basic_arr)\n",
    "\n",
    "%time main(ex_arr)"
   ]
  }
 ],
 "metadata": {
  "kernelspec": {
   "display_name": "Python 3",
   "language": "python",
   "name": "python3"
  },
  "language_info": {
   "codemirror_mode": {
    "name": "ipython",
    "version": 3
   },
   "file_extension": ".py",
   "mimetype": "text/x-python",
   "name": "python",
   "nbconvert_exporter": "python",
   "pygments_lexer": "ipython3",
   "version": "3.7.3"
  }
 },
 "nbformat": 4,
 "nbformat_minor": 2
}
