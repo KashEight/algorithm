{
 "cells": [
  {
   "cell_type": "markdown",
   "metadata": {},
   "source": [
    "# 実行前処理"
   ]
  },
  {
   "cell_type": "code",
   "execution_count": 2,
   "metadata": {},
   "outputs": [],
   "source": [
    "with open(\"../shuffle_code.txt\") as f:\n",
    "    basic_arr = []\n",
    "    line = f.readline()\n",
    "    while line:\n",
    "        line = line.strip()\n",
    "        basic_arr.append(int(line))\n",
    "        line = f.readline()"
   ]
  },
  {
   "cell_type": "code",
   "execution_count": 3,
   "metadata": {},
   "outputs": [],
   "source": [
    "import sys\n",
    "\n",
    "# 再帰上限を増やす\n",
    "sys.setrecursionlimit(1000000)"
   ]
  },
  {
   "cell_type": "markdown",
   "metadata": {},
   "source": [
    "# 実装"
   ]
  },
  {
   "cell_type": "code",
   "execution_count": 8,
   "metadata": {},
   "outputs": [],
   "source": [
    "# 初期化処理\n",
    "# n: リストの大きさ (今回は 1万)\n",
    "n = 10000\n",
    "\n",
    "# クイックソート実行関数\n",
    "def quick_sort(arr, left, right):\n",
    "    # right と left の差が 1 の場合 return する\n",
    "    if right - left == 1:\n",
    "        return\n",
    "    # mid の計算 (C++ のときと同じ方法で計算)\n",
    "    mid = left + (right - left) // 2\n",
    "    # pivot を mid として選択\n",
    "    pivot = arr[mid]\n",
    "    \n",
    "    # pivot を右端にする (pivot 未満/以上の選別を楽にするため)\n",
    "    arr[mid], arr[right - 1] = arr[right - 1], arr[mid]\n",
    "    \n",
    "    # i を left とする\n",
    "    i = left\n",
    "    \n",
    "    # 選別処理\n",
    "    for j in range(left, right):\n",
    "        # 現在の値が pivot より小さい場合\n",
    "        if arr[j] < pivot:\n",
    "            # 現在の値を arr[i] (i は left からの位置) と swap する\n",
    "            arr[i], arr[j] = arr[j], arr[i]\n",
    "            # i をインクリメント\n",
    "            i += 1\n",
    "    \n",
    "    # pivot を arr[i] と swap することで選別を完了させる\n",
    "    arr[i], arr[right - 1] = arr[right - 1], arr[i]\n",
    "    \n",
    "    # 再帰してソートを完了させる\n",
    "    quick_sort(arr, left, i)\n",
    "    quick_sort(arr, i, right)\n",
    "    \n",
    "\n",
    "def main(arr):\n",
    "    # クイックソートの実行\n",
    "    quick_sort(arr, 0, n)"
   ]
  },
  {
   "cell_type": "markdown",
   "metadata": {},
   "source": [
    "# 実行"
   ]
  },
  {
   "cell_type": "code",
   "execution_count": 9,
   "metadata": {},
   "outputs": [
    {
     "name": "stdout",
     "output_type": "stream",
     "text": [
      "20.4 ms ± 370 µs per loop (mean ± std. dev. of 7 runs, 10 loops each)\n"
     ]
    }
   ],
   "source": [
    "import copy\n",
    "\n",
    "# リストのコピー\n",
    "ex_arr = copy.deepcopy(basic_arr)\n",
    "\n",
    "%timeit main(ex_arr)"
   ]
  },
  {
   "cell_type": "code",
   "execution_count": null,
   "metadata": {},
   "outputs": [],
   "source": []
  }
 ],
 "metadata": {
  "kernelspec": {
   "display_name": "Python 3",
   "language": "python",
   "name": "python3"
  },
  "language_info": {
   "codemirror_mode": {
    "name": "ipython",
    "version": 3
   },
   "file_extension": ".py",
   "mimetype": "text/x-python",
   "name": "python",
   "nbconvert_exporter": "python",
   "pygments_lexer": "ipython3",
   "version": "3.7.3"
  }
 },
 "nbformat": 4,
 "nbformat_minor": 2
}
