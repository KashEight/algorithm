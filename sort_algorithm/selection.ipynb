{
 "cells": [
  {
   "cell_type": "markdown",
   "metadata": {},
   "source": [
    "# 実行前処理"
   ]
  },
  {
   "cell_type": "code",
   "execution_count": 1,
   "metadata": {},
   "outputs": [],
   "source": [
    "with open(\"../shuffle_code.txt\") as f:\n",
    "    basic_arr = []\n",
    "    line = f.readline()\n",
    "    while line:\n",
    "        line = line.strip()\n",
    "        basic_arr.append(int(line))\n",
    "        line = f.readline()"
   ]
  },
  {
   "cell_type": "markdown",
   "metadata": {},
   "source": [
    "# 実装"
   ]
  },
  {
   "cell_type": "code",
   "execution_count": 11,
   "metadata": {},
   "outputs": [],
   "source": [
    "# 初期化処理\n",
    "# n: リストの大きさ (今回は 1万)\n",
    "n = 10000\n",
    "\n",
    "# 挿入ソート実行関数\n",
    "def selection_sort(arr):\n",
    "    # i を 0 から n - 1 まで 1 ずつ上げながら回す\n",
    "    for i in range(n):\n",
    "        # 最小値がある index を最初は i とする (i までは既にソート済み)\n",
    "        min_index = i\n",
    "        # j を i から n - 1 まで 1 ずつ上げながら回す\n",
    "        for j in range(i, n):\n",
    "            # 現在の arr[min_index] より小さい arr[j] があったら min_index を更新\n",
    "            if arr[j] < arr[min_index]:\n",
    "                min_index = j\n",
    "        # arr[i] と arr[min_index] を swap し小さい値が最初に来るようにする\n",
    "        arr[j], arr[min_index] = arr[min_index], arr[j]\n",
    "        \n",
    "\n",
    "def main(arr):\n",
    "    # 選択ソートの実行\n",
    "    selection_sort(arr)"
   ]
  },
  {
   "cell_type": "markdown",
   "metadata": {},
   "source": [
    "# 実行"
   ]
  },
  {
   "cell_type": "code",
   "execution_count": 12,
   "metadata": {},
   "outputs": [
    {
     "name": "stdout",
     "output_type": "stream",
     "text": [
      "CPU times: user 4.13 s, sys: 0 ns, total: 4.13 s\n",
      "Wall time: 4.13 s\n"
     ]
    }
   ],
   "source": [
    "import copy\n",
    "\n",
    "# リストのコピー\n",
    "ex_arr = copy.deepcopy(basic_arr)\n",
    "\n",
    "%timeit main(ex_arr)"
   ]
  },
  {
   "cell_type": "code",
   "execution_count": null,
   "metadata": {},
   "outputs": [],
   "source": []
  }
 ],
 "metadata": {
  "kernelspec": {
   "display_name": "Python 3",
   "language": "python",
   "name": "python3"
  },
  "language_info": {
   "codemirror_mode": {
    "name": "ipython",
    "version": 3
   },
   "file_extension": ".py",
   "mimetype": "text/x-python",
   "name": "python",
   "nbconvert_exporter": "python",
   "pygments_lexer": "ipython3",
   "version": "3.7.3"
  }
 },
 "nbformat": 4,
 "nbformat_minor": 2
}
