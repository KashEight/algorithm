{
 "cells": [
  {
   "cell_type": "markdown",
   "metadata": {},
   "source": [
    "# 実行前処理"
   ]
  },
  {
   "cell_type": "code",
   "execution_count": 35,
   "metadata": {},
   "outputs": [],
   "source": [
    "with open(\"../shuffle_code.txt\") as f:\n",
    "    basic_arr = []\n",
    "    line = f.readline()\n",
    "    while line:\n",
    "        line = line.strip()\n",
    "        basic_arr.append(int(line))\n",
    "        line = f.readline()"
   ]
  },
  {
   "cell_type": "markdown",
   "metadata": {},
   "source": [
    "# 実装"
   ]
  },
  {
   "cell_type": "code",
   "execution_count": 41,
   "metadata": {},
   "outputs": [],
   "source": [
    "# 初期化処理\n",
    "# n: リストの大きさ (今回は 1万)\n",
    "n = 10000\n",
    "\n",
    "# 挿入ソート実行関数\n",
    "def insertion_sort(arr):\n",
    "    # i を 1 から n - 1 まで 1 ずつ上げながら回す\n",
    "    for i in range(n):\n",
    "        # 一時変数\n",
    "        tmp = arr[i]\n",
    "        j = i - 1\n",
    "        # 入れ替え\n",
    "        while j >= 0 and arr[j] > tmp:\n",
    "            arr[j + 1] = arr[j]\n",
    "            j -= 1\n",
    "        arr[j + 1] = tmp\n",
    "\n",
    "\n",
    "def main(arr):\n",
    "    # 挿入ソートの実行\n",
    "    insertion_sort(arr)"
   ]
  },
  {
   "cell_type": "markdown",
   "metadata": {},
   "source": [
    "# 実行"
   ]
  },
  {
   "cell_type": "code",
   "execution_count": 42,
   "metadata": {},
   "outputs": [
    {
     "name": "stdout",
     "output_type": "stream",
     "text": [
      "CPU times: user 4.06 s, sys: 0 ns, total: 4.06 s\n",
      "Wall time: 4.06 s\n"
     ]
    }
   ],
   "source": [
    "import copy\n",
    "\n",
    "# リストのコピー\n",
    "ex_arr = copy.deepcopy(basic_arr)\n",
    "\n",
    "%timeit main(ex_arr)"
   ]
  },
  {
   "cell_type": "code",
   "execution_count": null,
   "metadata": {},
   "outputs": [],
   "source": []
  }
 ],
 "metadata": {
  "kernelspec": {
   "display_name": "Python 3",
   "language": "python",
   "name": "python3"
  },
  "language_info": {
   "codemirror_mode": {
    "name": "ipython",
    "version": 3
   },
   "file_extension": ".py",
   "mimetype": "text/x-python",
   "name": "python",
   "nbconvert_exporter": "python",
   "pygments_lexer": "ipython3",
   "version": "3.7.3"
  }
 },
 "nbformat": 4,
 "nbformat_minor": 2
}
