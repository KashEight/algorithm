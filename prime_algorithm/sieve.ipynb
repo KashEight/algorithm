{
 "cells": [
  {
   "cell_type": "markdown",
   "metadata": {},
   "source": [
    "# エラトステネスのふるいを使ったアルゴリズム"
   ]
  },
  {
   "cell_type": "markdown",
   "metadata": {},
   "source": [
    "## 実装"
   ]
  },
  {
   "cell_type": "code",
   "execution_count": 9,
   "metadata": {},
   "outputs": [],
   "source": [
    "import math\n",
    "\n",
    "# 初期化処理\n",
    "# n: 範囲 (今回は 100万)\n",
    "n = 1000000\n",
    "\n",
    "\n",
    "# 素数判定をする関数 (引数に数字と配列を取るように変更)\n",
    "def is_prime(num, arr):\n",
    "    # arr (この場合は primes) から値を取得しそれを return する\n",
    "    return arr[num - 1]\n",
    "\n",
    "\n",
    "def main():\n",
    "    # 初期化処理 (main 関数内)\n",
    "    # count: n までに含まれる素数の数\n",
    "    # square_rooted_n: n の平方根\n",
    "    # primes: 要素数 n のリスト (宣言と同時に True で初期化する)\n",
    "    count = 0\n",
    "    square_rooted_n = math.sqrt(n)\n",
    "    primes = [True] * n\n",
    "    \n",
    "    # i を 2 から n まで 1 ずつ上げながら回す\n",
    "    for i in range(2, n + 1):\n",
    "        # 素数判定をして true なら count をインクリメント, ふるい落とし処理 (O(loglogn))\n",
    "        if is_prime(i, primes):\n",
    "            count += 1\n",
    "            # i が √n より小さいか調べる\n",
    "            if i < square_rooted_n:\n",
    "                # ふるい落とし処理\n",
    "                # j を i から n まで i ずつ上げながら回す\n",
    "                # primes の key (j) を False に設定\n",
    "                for j in range(i, n + 1, i):\n",
    "                    primes[j - 1] = False\n",
    "    \n",
    "    # 素数の合計の表示\n",
    "    print(count)"
   ]
  },
  {
   "cell_type": "markdown",
   "metadata": {},
   "source": [
    "## 実行"
   ]
  },
  {
   "cell_type": "code",
   "execution_count": 11,
   "metadata": {},
   "outputs": [
    {
     "name": "stdout",
     "output_type": "stream",
     "text": [
      "78498\n",
      "78498\n",
      "78498\n",
      "78498\n",
      "78498\n",
      "78498\n",
      "78498\n",
      "78498\n",
      "304 ms ± 6.89 ms per loop (mean ± std. dev. of 7 runs, 1 loop each)\n"
     ]
    }
   ],
   "source": [
    "%timeit main()"
   ]
  },
  {
   "cell_type": "code",
   "execution_count": null,
   "metadata": {},
   "outputs": [],
   "source": []
  }
 ],
 "metadata": {
  "kernelspec": {
   "display_name": "Python 3",
   "language": "python",
   "name": "python3"
  },
  "language_info": {
   "codemirror_mode": {
    "name": "ipython",
    "version": 3
   },
   "file_extension": ".py",
   "mimetype": "text/x-python",
   "name": "python",
   "nbconvert_exporter": "python",
   "pygments_lexer": "ipython3",
   "version": "3.7.3"
  }
 },
 "nbformat": 4,
 "nbformat_minor": 2
}
