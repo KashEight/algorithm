{
 "cells": [
  {
   "cell_type": "markdown",
   "metadata": {},
   "source": [
    "# 平方根を使ったアルゴリズム"
   ]
  },
  {
   "cell_type": "markdown",
   "metadata": {},
   "source": [
    "## 実装"
   ]
  },
  {
   "cell_type": "code",
   "execution_count": 4,
   "metadata": {},
   "outputs": [],
   "source": [
    "import math\n",
    "\n",
    "# 初期化処理\n",
    "# n: 範囲 (今回は 100万)\n",
    "n = 1000000\n",
    "\n",
    "\n",
    "# 素数判定をする関数 (O(√n))\n",
    "def is_prime(num):\n",
    "    # 2 は最初の素数なので True を返す\n",
    "    if num == 2:\n",
    "        return True\n",
    "\n",
    "    # 偶数は素数ではないので False を返す\n",
    "    if num % 2 == 0:\n",
    "        return False\n",
    "\n",
    "    # i を 3 から √num まで 2 ずつ上げながら回す\n",
    "    for i in range(3, int(math.sqrt(num) + 1), 2):\n",
    "        # num が i で割れるか調べ, 割れたら False を返す\n",
    "        if num % i == 0:\n",
    "            return False\n",
    "        \n",
    "    return True\n",
    "\n",
    "\n",
    "def main():\n",
    "    # 初期化処理 (main 関数内)\n",
    "    # count: n までに含まれる素数の数\n",
    "    count = 0\n",
    "    \n",
    "    # i を 2 から n まで 1 ずつ上げながら回す\n",
    "    for i in range(2, n + 1):\n",
    "        # 素数判定をして true なら count をインクリメント\n",
    "        if is_prime(i):\n",
    "            count += 1\n",
    "    \n",
    "    # 素数の合計の表示\n",
    "    print(count)"
   ]
  },
  {
   "cell_type": "markdown",
   "metadata": {},
   "source": [
    "## 実行"
   ]
  },
  {
   "cell_type": "code",
   "execution_count": 11,
   "metadata": {},
   "outputs": [
    {
     "name": "stdout",
     "output_type": "stream",
     "text": [
      "78498\n",
      "CPU times: user 2.04 s, sys: 0 ns, total: 2.04 s\n",
      "Wall time: 2.04 s\n"
     ]
    }
   ],
   "source": [
    "%time main()"
   ]
  }
 ],
 "metadata": {
  "kernelspec": {
   "display_name": "Python 3",
   "language": "python",
   "name": "python3"
  },
  "language_info": {
   "codemirror_mode": {
    "name": "ipython",
    "version": 3
   },
   "file_extension": ".py",
   "mimetype": "text/x-python",
   "name": "python",
   "nbconvert_exporter": "python",
   "pygments_lexer": "ipython3",
   "version": "3.7.3"
  }
 },
 "nbformat": 4,
 "nbformat_minor": 2
}
